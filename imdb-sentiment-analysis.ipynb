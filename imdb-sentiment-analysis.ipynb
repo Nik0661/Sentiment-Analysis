{
 "cells": [
  {
   "cell_type": "code",
   "execution_count": 34,
   "metadata": {
    "_cell_guid": "b1076dfc-b9ad-4769-8c92-a6c4dae69d19",
    "_uuid": "8f2839f25d086af736a60e9eeb907d3b93b6e0e5",
    "execution": {
     "iopub.execute_input": "2021-09-17T08:15:00.011101Z",
     "iopub.status.busy": "2021-09-17T08:15:00.010784Z",
     "iopub.status.idle": "2021-09-17T08:15:00.020174Z",
     "shell.execute_reply": "2021-09-17T08:15:00.018985Z",
     "shell.execute_reply.started": "2021-09-17T08:15:00.011070Z"
    }
   },
   "outputs": [
    {
     "name": "stdout",
     "output_type": "stream",
     "text": [
      "/kaggle/input/imdb-dataset-of-50k-movie-reviews/IMDB Dataset.csv\n"
     ]
    }
   ],
   "source": [
    "# This Python 3 environment comes with many helpful analytics libraries installed\n",
    "# It is defined by the kaggle/python Docker image: https://github.com/kaggle/docker-python\n",
    "# For example, here's several helpful packages to load\n",
    "\n",
    "import numpy as np # linear algebra\n",
    "import pandas as pd # data processing, CSV file I/O (e.g. pd.read_csv)\n",
    "\n",
    "# Input data files are available in the read-only \"../input/\" directory\n",
    "# For example, running this (by clicking run or pressing Shift+Enter) will list all files under the input directory\n",
    "\n",
    "import os\n",
    "for dirname, _, filenames in os.walk('/kaggle/input'):\n",
    "    for filename in filenames:\n",
    "        print(os.path.join(dirname, filename))\n",
    "\n",
    "# You can write up to 20GB to the current directory (/kaggle/working/) that gets preserved as output when you create a version using \"Save & Run All\" \n",
    "# You can also write temporary files to /kaggle/temp/, but they won't be saved outside of the current session"
   ]
  },
  {
   "cell_type": "code",
   "execution_count": 35,
   "metadata": {
    "execution": {
     "iopub.execute_input": "2021-09-17T08:15:01.015880Z",
     "iopub.status.busy": "2021-09-17T08:15:01.014812Z",
     "iopub.status.idle": "2021-09-17T08:15:01.764388Z",
     "shell.execute_reply": "2021-09-17T08:15:01.763330Z",
     "shell.execute_reply.started": "2021-09-17T08:15:01.015833Z"
    }
   },
   "outputs": [],
   "source": [
    "train = pd.read_csv('../input/imdb-dataset-of-50k-movie-reviews/IMDB Dataset.csv')"
   ]
  },
  {
   "cell_type": "markdown",
   "metadata": {
    "execution": {
     "iopub.execute_input": "2021-09-17T08:01:20.957002Z",
     "iopub.status.busy": "2021-09-17T08:01:20.95618Z",
     "iopub.status.idle": "2021-09-17T08:01:20.979864Z",
     "shell.execute_reply": "2021-09-17T08:01:20.97921Z",
     "shell.execute_reply.started": "2021-09-17T08:01:20.956959Z"
    }
   },
   "source": [
    "# Preprocessing\n",
    "\n",
    "1. Remove Unwanted char & symbols\n",
    "2. Remove stopwords"
   ]
  },
  {
   "cell_type": "code",
   "execution_count": 36,
   "metadata": {
    "execution": {
     "iopub.execute_input": "2021-09-17T08:15:04.287187Z",
     "iopub.status.busy": "2021-09-17T08:15:04.286856Z",
     "iopub.status.idle": "2021-09-17T08:15:04.291850Z",
     "shell.execute_reply": "2021-09-17T08:15:04.290538Z",
     "shell.execute_reply.started": "2021-09-17T08:15:04.287146Z"
    }
   },
   "outputs": [],
   "source": [
    "#1. \n",
    "import nltk"
   ]
  },
  {
   "cell_type": "code",
   "execution_count": 37,
   "metadata": {
    "execution": {
     "iopub.execute_input": "2021-09-17T08:15:05.383840Z",
     "iopub.status.busy": "2021-09-17T08:15:05.382903Z",
     "iopub.status.idle": "2021-09-17T08:15:05.388247Z",
     "shell.execute_reply": "2021-09-17T08:15:05.387181Z",
     "shell.execute_reply.started": "2021-09-17T08:15:05.383789Z"
    }
   },
   "outputs": [],
   "source": [
    "from nltk.corpus import stopwords"
   ]
  },
  {
   "cell_type": "code",
   "execution_count": 38,
   "metadata": {
    "execution": {
     "iopub.execute_input": "2021-09-17T08:15:05.763294Z",
     "iopub.status.busy": "2021-09-17T08:15:05.762929Z",
     "iopub.status.idle": "2021-09-17T08:15:05.768520Z",
     "shell.execute_reply": "2021-09-17T08:15:05.767858Z",
     "shell.execute_reply.started": "2021-09-17T08:15:05.763253Z"
    }
   },
   "outputs": [],
   "source": [
    " list1 = stopwords.words('english')"
   ]
  },
  {
   "cell_type": "code",
   "execution_count": 39,
   "metadata": {
    "execution": {
     "iopub.execute_input": "2021-09-17T08:15:06.215397Z",
     "iopub.status.busy": "2021-09-17T08:15:06.215002Z",
     "iopub.status.idle": "2021-09-17T08:15:06.220395Z",
     "shell.execute_reply": "2021-09-17T08:15:06.219503Z",
     "shell.execute_reply.started": "2021-09-17T08:15:06.215352Z"
    }
   },
   "outputs": [],
   "source": [
    "list1.remove('not')\n",
    "list1.remove(\"shouldn't\")\n",
    "list1.remove(\"wouldn't\")\n",
    "list1.remove(\"won't\")\n",
    "list1.append(\"br\")\n",
    "\n",
    "\n"
   ]
  },
  {
   "cell_type": "code",
   "execution_count": 40,
   "metadata": {
    "execution": {
     "iopub.execute_input": "2021-09-17T08:15:06.983490Z",
     "iopub.status.busy": "2021-09-17T08:15:06.983026Z",
     "iopub.status.idle": "2021-09-17T08:15:06.988986Z",
     "shell.execute_reply": "2021-09-17T08:15:06.987872Z",
     "shell.execute_reply.started": "2021-09-17T08:15:06.983457Z"
    }
   },
   "outputs": [],
   "source": [
    "temp = train['review']"
   ]
  },
  {
   "cell_type": "code",
   "execution_count": 81,
   "metadata": {
    "execution": {
     "iopub.execute_input": "2021-09-17T08:50:47.212453Z",
     "iopub.status.busy": "2021-09-17T08:50:47.211708Z",
     "iopub.status.idle": "2021-09-17T08:51:55.088546Z",
     "shell.execute_reply": "2021-09-17T08:51:55.087543Z",
     "shell.execute_reply.started": "2021-09-17T08:50:47.212397Z"
    }
   },
   "outputs": [],
   "source": [
    "import re\n",
    "for i in range(len(temp)):\n",
    "    temp[i] = temp[i].lower()\n",
    "    temp[i] = re.sub(('[^a-z]'),' ',temp[i])"
   ]
  },
  {
   "cell_type": "code",
   "execution_count": null,
   "metadata": {},
   "outputs": [],
   "source": []
  },
  {
   "cell_type": "code",
   "execution_count": 83,
   "metadata": {
    "execution": {
     "iopub.execute_input": "2021-09-17T08:53:57.880382Z",
     "iopub.status.busy": "2021-09-17T08:53:57.879550Z",
     "iopub.status.idle": "2021-09-17T08:54:00.530127Z",
     "shell.execute_reply": "2021-09-17T08:54:00.529150Z",
     "shell.execute_reply.started": "2021-09-17T08:53:57.880326Z"
    }
   },
   "outputs": [],
   "source": [
    "split_list =[ ]\n",
    "\n",
    "for i in range(len(temp)):\n",
    "    split_list.extend([temp[i].split()])\n",
    "    "
   ]
  },
  {
   "cell_type": "code",
   "execution_count": 57,
   "metadata": {
    "execution": {
     "iopub.execute_input": "2021-09-17T08:23:56.039089Z",
     "iopub.status.busy": "2021-09-17T08:23:56.038314Z",
     "iopub.status.idle": "2021-09-17T08:23:56.736404Z",
     "shell.execute_reply": "2021-09-17T08:23:56.735775Z",
     "shell.execute_reply.started": "2021-09-17T08:23:56.039038Z"
    }
   },
   "outputs": [
    {
     "name": "stderr",
     "output_type": "stream",
     "text": [
      "/opt/conda/lib/python3.7/site-packages/ipykernel_launcher.py:1: VisibleDeprecationWarning: Creating an ndarray from ragged nested sequences (which is a list-or-tuple of lists-or-tuples-or ndarrays with different lengths or shapes) is deprecated. If you meant to do this, you must specify 'dtype=object' when creating the ndarray\n",
      "  \"\"\"Entry point for launching an IPython kernel.\n"
     ]
    }
   ],
   "source": [
    "split_list = np.array( split_list)"
   ]
  },
  {
   "cell_type": "code",
   "execution_count": 65,
   "metadata": {
    "execution": {
     "iopub.execute_input": "2021-09-17T08:35:22.552308Z",
     "iopub.status.busy": "2021-09-17T08:35:22.551563Z",
     "iopub.status.idle": "2021-09-17T08:35:22.559173Z",
     "shell.execute_reply": "2021-09-17T08:35:22.558318Z",
     "shell.execute_reply.started": "2021-09-17T08:35:22.552260Z"
    }
   },
   "outputs": [
    {
     "data": {
      "text/plain": [
       "307"
      ]
     },
     "execution_count": 65,
     "metadata": {},
     "output_type": "execute_result"
    }
   ],
   "source": [
    "len(split_list[0])"
   ]
  },
  {
   "cell_type": "code",
   "execution_count": 117,
   "metadata": {
    "execution": {
     "iopub.execute_input": "2021-09-17T09:49:07.897503Z",
     "iopub.status.busy": "2021-09-17T09:49:07.897177Z",
     "iopub.status.idle": "2021-09-17T09:49:07.904907Z",
     "shell.execute_reply": "2021-09-17T09:49:07.903880Z",
     "shell.execute_reply.started": "2021-09-17T09:49:07.897472Z"
    }
   },
   "outputs": [],
   "source": []
  },
  {
   "cell_type": "code",
   "execution_count": 91,
   "metadata": {
    "execution": {
     "iopub.execute_input": "2021-09-17T09:12:46.700245Z",
     "iopub.status.busy": "2021-09-17T09:12:46.699241Z",
     "iopub.status.idle": "2021-09-17T09:12:46.704686Z",
     "shell.execute_reply": "2021-09-17T09:12:46.703980Z",
     "shell.execute_reply.started": "2021-09-17T09:12:46.700197Z"
    }
   },
   "outputs": [],
   "source": [
    "from tensorflow.keras.preprocessing.text import Tokenizer\n",
    "from tensorflow.keras.preprocessing.sequence import pad_sequences"
   ]
  },
  {
   "cell_type": "code",
   "execution_count": 100,
   "metadata": {
    "execution": {
     "iopub.execute_input": "2021-09-17T09:21:08.117007Z",
     "iopub.status.busy": "2021-09-17T09:21:08.116643Z",
     "iopub.status.idle": "2021-09-17T09:21:19.693169Z",
     "shell.execute_reply": "2021-09-17T09:21:19.692209Z",
     "shell.execute_reply.started": "2021-09-17T09:21:08.116965Z"
    }
   },
   "outputs": [],
   "source": [
    "token = Tokenizer(num_words=20000)\n",
    "token.fit_on_texts(split_list)\n",
    "X = token.texts_to_sequences(split_list)"
   ]
  },
  {
   "cell_type": "code",
   "execution_count": 118,
   "metadata": {
    "execution": {
     "iopub.execute_input": "2021-09-17T09:49:15.583210Z",
     "iopub.status.busy": "2021-09-17T09:49:15.582107Z",
     "iopub.status.idle": "2021-09-17T09:49:15.589563Z",
     "shell.execute_reply": "2021-09-17T09:49:15.588709Z",
     "shell.execute_reply.started": "2021-09-17T09:49:15.583158Z"
    }
   },
   "outputs": [],
   "source": [
    "def preprocess(temp):\n",
    "    \n",
    "    for i in range(len(temp)):\n",
    "        temp[i] = temp[i].lower()\n",
    "        temp[i] = re.sub(('[^a-z]'),' ',temp[i])\n",
    "    \n",
    "    split_list =[ ]\n",
    "    for i in range(len(temp)):\n",
    "        split_list.extend([temp[i].split()])\n",
    "    \n",
    "\n",
    "    for i in range (len(split_list)):\n",
    "        for j in split_list[i]:\n",
    "            if  j in list1:\n",
    "                split_list[i].remove(j)\n",
    "    split_list = token.texts_to_sequences(split_list)\n",
    "    return split_list\n",
    "\n"
   ]
  },
  {
   "cell_type": "code",
   "execution_count": 101,
   "metadata": {
    "execution": {
     "iopub.execute_input": "2021-09-17T09:21:36.488848Z",
     "iopub.status.busy": "2021-09-17T09:21:36.488472Z",
     "iopub.status.idle": "2021-09-17T09:21:37.196576Z",
     "shell.execute_reply": "2021-09-17T09:21:37.195655Z",
     "shell.execute_reply.started": "2021-09-17T09:21:36.488808Z"
    }
   },
   "outputs": [],
   "source": [
    "X = pad_sequences(X,maxlen=150)"
   ]
  },
  {
   "cell_type": "code",
   "execution_count": 99,
   "metadata": {
    "execution": {
     "iopub.execute_input": "2021-09-17T09:18:24.857596Z",
     "iopub.status.busy": "2021-09-17T09:18:24.856846Z",
     "iopub.status.idle": "2021-09-17T09:18:24.880957Z",
     "shell.execute_reply": "2021-09-17T09:18:24.879766Z",
     "shell.execute_reply.started": "2021-09-17T09:18:24.857537Z"
    }
   },
   "outputs": [],
   "source": [
    "y = train['sentiment'].apply(lambda x:1 if x=='positive' else 0)"
   ]
  },
  {
   "cell_type": "code",
   "execution_count": 104,
   "metadata": {
    "execution": {
     "iopub.execute_input": "2021-09-17T09:26:15.909256Z",
     "iopub.status.busy": "2021-09-17T09:26:15.908814Z",
     "iopub.status.idle": "2021-09-17T09:26:15.914180Z",
     "shell.execute_reply": "2021-09-17T09:26:15.912967Z",
     "shell.execute_reply.started": "2021-09-17T09:26:15.909202Z"
    }
   },
   "outputs": [],
   "source": [
    "from tensorflow.keras.layers import Embedding,Dense , LSTM\n",
    "from tensorflow.keras.models import Sequential"
   ]
  },
  {
   "cell_type": "code",
   "execution_count": 107,
   "metadata": {
    "execution": {
     "iopub.execute_input": "2021-09-17T09:28:36.540771Z",
     "iopub.status.busy": "2021-09-17T09:28:36.540403Z",
     "iopub.status.idle": "2021-09-17T09:28:36.899026Z",
     "shell.execute_reply": "2021-09-17T09:28:36.898269Z",
     "shell.execute_reply.started": "2021-09-17T09:28:36.540735Z"
    }
   },
   "outputs": [],
   "source": [
    "model = Sequential()\n",
    "model.add(Embedding(20000,50,input_shape = (150,)))\n",
    "model.add(LSTM(50))\n",
    "model.add(Dense(1,activation ='sigmoid'))\n"
   ]
  },
  {
   "cell_type": "code",
   "execution_count": 111,
   "metadata": {
    "execution": {
     "iopub.execute_input": "2021-09-17T09:33:24.241924Z",
     "iopub.status.busy": "2021-09-17T09:33:24.241522Z",
     "iopub.status.idle": "2021-09-17T09:33:24.257470Z",
     "shell.execute_reply": "2021-09-17T09:33:24.256366Z",
     "shell.execute_reply.started": "2021-09-17T09:33:24.241878Z"
    }
   },
   "outputs": [],
   "source": [
    "model.compile(loss = 'binary_crossentropy',metrics=['accuracy'])"
   ]
  },
  {
   "cell_type": "code",
   "execution_count": 113,
   "metadata": {
    "execution": {
     "iopub.execute_input": "2021-09-17T09:37:48.685753Z",
     "iopub.status.busy": "2021-09-17T09:37:48.685315Z",
     "iopub.status.idle": "2021-09-17T09:41:31.225511Z",
     "shell.execute_reply": "2021-09-17T09:41:31.224317Z",
     "shell.execute_reply.started": "2021-09-17T09:37:48.685716Z"
    }
   },
   "outputs": [
    {
     "name": "stdout",
     "output_type": "stream",
     "text": [
      "Epoch 1/5\n",
      "391/391 [==============================] - 45s 115ms/step - loss: 0.1084 - accuracy: 0.9611\n",
      "Epoch 2/5\n",
      "391/391 [==============================] - 44s 114ms/step - loss: 0.0956 - accuracy: 0.9657\n",
      "Epoch 3/5\n",
      "391/391 [==============================] - 44s 114ms/step - loss: 0.0839 - accuracy: 0.9705\n",
      "Epoch 4/5\n",
      "391/391 [==============================] - 44s 114ms/step - loss: 0.0728 - accuracy: 0.9745\n",
      "Epoch 5/5\n",
      "391/391 [==============================] - 44s 113ms/step - loss: 0.0635 - accuracy: 0.9786\n"
     ]
    },
    {
     "data": {
      "text/plain": [
       "<tensorflow.python.keras.callbacks.History at 0x7f6b3cc85e90>"
      ]
     },
     "execution_count": 113,
     "metadata": {},
     "output_type": "execute_result"
    }
   ],
   "source": [
    "model.fit(X,y,epochs=5,batch_size = 128)"
   ]
  },
  {
   "cell_type": "code",
   "execution_count": 121,
   "metadata": {
    "execution": {
     "iopub.execute_input": "2021-09-17T09:50:09.280972Z",
     "iopub.status.busy": "2021-09-17T09:50:09.280581Z",
     "iopub.status.idle": "2021-09-17T09:50:09.287371Z",
     "shell.execute_reply": "2021-09-17T09:50:09.286530Z",
     "shell.execute_reply.started": "2021-09-17T09:50:09.280938Z"
    }
   },
   "outputs": [
    {
     "data": {
      "text/plain": [
       "[[356, 1, 4, 62, 18]]"
      ]
     },
     "execution_count": 121,
     "metadata": {},
     "output_type": "execute_result"
    }
   ],
   "source": [
    "preprocess(['Hii my name is nikhil And the movie was so good'])"
   ]
  },
  {
   "cell_type": "code",
   "execution_count": 124,
   "metadata": {
    "execution": {
     "iopub.execute_input": "2021-09-17T09:51:01.161052Z",
     "iopub.status.busy": "2021-09-17T09:51:01.160708Z",
     "iopub.status.idle": "2021-09-17T09:51:01.231202Z",
     "shell.execute_reply": "2021-09-17T09:51:01.230071Z",
     "shell.execute_reply.started": "2021-09-17T09:51:01.161016Z"
    }
   },
   "outputs": [
    {
     "data": {
      "text/plain": [
       "array([[0.805616]], dtype=float32)"
      ]
     },
     "execution_count": 124,
     "metadata": {},
     "output_type": "execute_result"
    }
   ],
   "source": [
    "model.predict(preprocess(['Hii my name is nikhil And the movie was so great']))"
   ]
  },
  {
   "cell_type": "code",
   "execution_count": null,
   "metadata": {},
   "outputs": [],
   "source": [
    "#closer to 1 = Positive review else Negative"
   ]
  }
 ],
 "metadata": {
  "kernelspec": {
   "display_name": "Python 3",
   "language": "python",
   "name": "python3"
  },
  "language_info": {
   "codemirror_mode": {
    "name": "ipython",
    "version": 3
   },
   "file_extension": ".py",
   "mimetype": "text/x-python",
   "name": "python",
   "nbconvert_exporter": "python",
   "pygments_lexer": "ipython3",
   "version": "3.8.8"
  }
 },
 "nbformat": 4,
 "nbformat_minor": 4
}
